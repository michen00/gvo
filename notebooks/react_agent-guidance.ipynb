{
 "cells": [
  {
   "cell_type": "markdown",
   "id": "c9fbee35",
   "metadata": {},
   "source": [
    "# Guidance ReAct Agent\n",
    "\n",
    "This notebook mirrors the Outlines ReAct agent example using the [guidance](https://github.com/guidance-ai/guidance) library. We keep the same pair of tools (Wikipedia search and a calculator), the same JSON decision contract, and the same outer control loop so we can compare behaviors side-by-side.\n"
   ]
  },
  {
   "cell_type": "markdown",
   "id": "65e48d82",
   "metadata": {},
   "source": [
    "> Requirements: `pip install guidance httpx pydantic` (plus whichever model backend you want to use). If you rely on a hosted API such as OpenAI, remember to export the appropriate API key before running the cells below.\n"
   ]
  },
  {
   "cell_type": "code",
   "execution_count": null,
   "id": "ac1415c0",
   "metadata": {},
   "outputs": [],
   "source": [
    "import datetime as dt\n",
    "import json\n",
    "from ast import literal_eval\n",
    "from enum import Enum\n",
    "\n",
    "import guidance\n",
    "import httpx\n",
    "from guidance import assistant, models, system, user\n",
    "from guidance import json as gen_json\n",
    "from guidance.library import capture\n",
    "from guidance.models import Model\n",
    "from pydantic import BaseModel, ConfigDict, Field"
   ]
  },
  {
   "cell_type": "code",
   "execution_count": 2,
   "id": "a4330156",
   "metadata": {},
   "outputs": [],
   "source": [
    "# Select a guidance model backend.\n",
    "# Uncomment the option that fits your environment, or replace with your own setup.\n",
    "\n",
    "# Example: OpenAI API (set OPENAI_API_KEY beforehand).\n",
    "MODEL = models.OpenAI(\"gpt-4o-mini\")\n",
    "\n",
    "# Example: local Transformers model.\n",
    "# from transformers import AutoModelForCausalLM, AutoTokenizer\n",
    "# HF_MODEL = AutoModelForCausalLM.from_pretrained(\"microsoft/Phi-4-mini-instruct\")\n",
    "# HF_TOKENIZER = AutoTokenizer.from_pretrained(\"microsoft/Phi-4-mini-instruct\")\n",
    "# MODEL = models.Transformers(HF_MODEL, HF_TOKENIZER)\n",
    "\n",
    "# Example: llama.cpp model.\n",
    "# from llama_cpp import Llama\n",
    "# LLAMA = Llama(\"/path/to/model.gguf\", n_ctx=8192)\n",
    "# MODEL = models.LlamaCpp(LLAMA)"
   ]
  },
  {
   "cell_type": "code",
   "execution_count": null,
   "id": "599ea201",
   "metadata": {},
   "outputs": [],
   "source": [
    "# Tool implementations (identical to the Outlines tutorial with extra guards)\n",
    "\n",
    "\n",
    "def wikipedia(query: str) -> str:\n",
    "    \"\"\"Return the first Wikipedia search snippet for the provided query.\"\"\"\n",
    "    if not query.strip():\n",
    "        return \"Invalid query: provide a non-empty search term.\"\n",
    "    response = httpx.get(\n",
    "        \"https://en.wikipedia.org/w/api.php\",\n",
    "        params={\n",
    "            \"action\": \"query\",\n",
    "            \"list\": \"search\",\n",
    "            \"srsearch\": query,\n",
    "            \"format\": \"json\",\n",
    "        },\n",
    "        timeout=10,\n",
    "    )\n",
    "    response.raise_for_status()\n",
    "    data = response.json()\n",
    "    search_results = data.get(\"query\", {}).get(\"search\", [])\n",
    "    if not search_results:\n",
    "        return \"No results.\"\n",
    "    return search_results[0].get(\"snippet\", \"No snippet available.\")\n",
    "\n",
    "\n",
    "def calculate(expression: str) -> str:\n",
    "    \"\"\"Evaluate a basic arithmetic expression using literal evaluation safeguards.\"\"\"\n",
    "    if not expression.strip():\n",
    "        return \"Invalid expression: provide a non-empty arithmetic expression.\"\n",
    "    try:\n",
    "        result = literal_eval(expression)\n",
    "    except (ValueError, SyntaxError, TypeError) as exc:\n",
    "        return f\"Error evaluating expression: {exc}\"\n",
    "    return str(result)\n",
    "\n",
    "\n",
    "TOOL_REGISTRY = {\n",
    "    \"wikipedia\": wikipedia,\n",
    "    \"calculate\": calculate,\n",
    "}"
   ]
  },
  {
   "cell_type": "code",
   "execution_count": null,
   "id": "422db9a2",
   "metadata": {},
   "outputs": [],
   "source": [
    "class Action(str, Enum):\n",
    "    \"\"\"Enumerate the available tools exposed to the agent.\"\"\"\n",
    "\n",
    "    wikipedia = \"wikipedia\"\n",
    "    calculate = \"calculate\"\n",
    "\n",
    "\n",
    "class ReasonAndAct(BaseModel):\n",
    "    \"\"\"Intermediate decision payload instructing the agent to run a tool.\"\"\"\n",
    "\n",
    "    model_config = ConfigDict(extra=\"forbid\")\n",
    "    Scratchpad: str = Field(..., description=\"Notes derived from prior observations\")\n",
    "    Thought: str = Field(..., description=\"Your reasoning about the next step\")\n",
    "    Action: Action\n",
    "    Action_Input: str = Field(..., description=\"Arguments for the selected action\")\n",
    "\n",
    "\n",
    "class FinalAnswer(BaseModel):\n",
    "    \"\"\"Terminal payload containing the final answer and supporting scratchpad.\"\"\"\n",
    "\n",
    "    model_config = ConfigDict(extra=\"forbid\")\n",
    "    Scratchpad: str = Field(..., description=\"Notes that justify the final answer\")\n",
    "    Final_Answer: str = Field(\n",
    "        ..., description=\"Grounded answer to the original question\"\n",
    "    )\n",
    "\n",
    "\n",
    "class Decision(BaseModel):\n",
    "    \"\"\"Discriminated union between an action request and a final answer.\"\"\"\n",
    "\n",
    "    model_config = ConfigDict(extra=\"forbid\")\n",
    "    Decision: ReasonAndAct | FinalAnswer"
   ]
  },
  {
   "cell_type": "code",
   "execution_count": 5,
   "id": "636034f6",
   "metadata": {},
   "outputs": [
    {
     "name": "stdout",
     "output_type": "stream",
     "text": [
      "{\n",
      "  \"$defs\": {\n",
      "    \"Action\": {\n",
      "      \"enum\": [\n",
      "        \"wikipedia\",\n",
      "        \"calculate\"\n",
      "      ],\n",
      "      \"title\": \"Action\",\n",
      "      \"type\": \"string\"\n",
      "    },\n",
      "    \"FinalAnswer\": {\n",
      "      \"additionalProperties\": false,\n",
      "      \"properties\": {\n",
      "        \"Scratchpad\": {\n",
      "          \"description\": \"Notes that justify the final answer\",\n",
      "          \"title\": \"Scratchpad\",\n",
      "          \"type\": \"string\"\n",
      "        },\n",
      "        \"Final_Answer\": {\n",
      "          \"description\": \"Grounded answer to the original question\",\n",
      "          \"title\": \"Final Answer\",\n",
      "          \"type\": \"string\"\n",
      "        }\n",
      "      },\n",
      "      \"required\": [\n",
      "        \"Scratchpad\",\n",
      "        \"Final_Answer\"\n",
      "      ],\n",
      "      \"title\": \"FinalAnswer\",\n",
      "      \"type\": \"object\"\n",
      "    },\n",
      "    \"ReasonAndAct\": {\n",
      "      \"additionalProperties\": false,\n",
      "      \"properties\": {\n",
      "        \"Scratchpad\": {\n",
      "          \"description\": \"Notes derived from prior observations\",\n",
      "          \"title\": \"Scratchpad\",\n",
      "          \"type\": \"string\"\n",
      "        },\n",
      "        \"Thought\": {\n",
      "          \"description\": \"Your reasoning about the next step\",\n",
      "          \"title\": \"Thought\",\n",
      "          \"type\": \"string\"\n",
      "        },\n",
      "        \"Action\": {\n",
      "          \"$ref\": \"#/$defs/Action\"\n",
      "        },\n",
      "        \"Action_Input\": {\n",
      "          \"description\": \"Arguments for the selected action\",\n",
      "          \"title\": \"Action Input\",\n",
      "          \"type\": \"string\"\n",
      "        }\n",
      "      },\n",
      "      \"required\": [\n",
      "        \"Scratchpad\",\n",
      "        \"Thought\",\n",
      "        \"Action\",\n",
      "        \"Action_Input\"\n",
      "      ],\n",
      "      \"title\": \"ReasonAndAct\",\n",
      "      \"type\": \"object\"\n",
      "    }\n",
      "  },\n",
      "  \"additionalProperties\": false,\n",
      "  \"properties\": {\n",
      "    \"Decision\": {\n",
      "      \"anyOf\": [\n",
      "        {\n",
      "          \"$ref\": \"#/$defs/ReasonAndAct\"\n",
      "        },\n",
      "        {\n",
      "          \"$ref\": \"#/$defs/FinalAnswer\"\n",
      "        }\n",
      "      ],\n",
      "      \"title\": \"Decision\"\n",
      "    }\n",
      "  },\n",
      "  \"required\": [\n",
      "    \"Decision\"\n",
      "  ],\n",
      "  \"title\": \"Decision\",\n",
      "  \"type\": \"object\"\n",
      "}\n"
     ]
    }
   ],
   "source": [
    "# Sanity check: ensure schema is JSON-schema compliant for OpenAI\n",
    "print(json.dumps(Decision.model_json_schema(), indent=2))"
   ]
  },
  {
   "cell_type": "code",
   "execution_count": null,
   "id": "b41680d9",
   "metadata": {},
   "outputs": [],
   "source": [
    "SCHEMA_JSON = json.dumps(Decision.model_json_schema(), indent=2)\n",
    "\n",
    "SYSTEM_PROMPT = (\n",
    "    \"You are a ReAct agent with access to two tools:\\n\"\n",
    "    \"1. wikipedia(query): search Wikipedia and return the top result snippet.\\n\"\n",
    "    \"2. calculate(expression): evaluate a Python arithmetic expression.\\n\\n\"\n",
    "    \"Respond **only** with JSON that matches this schema:\\n\"\n",
    "    f\"{SCHEMA_JSON}\\n\\n\"\n",
    "    \"Guidelines:\\n\"\n",
    "    \"- Track useful facts from observations in the Scratchpad.\\n\"\n",
    "    \"- When you need external information, pick an Action and supply Action_Input.\\n\"\n",
    "    \"- After an Observation is provided,\\n\"\n",
    "    \"  fold it into the next Scratchpad before deciding again.\\n\"\n",
    "    \"- Finish with Final_Answer once you can answer the user's question.\\n\"\n",
    "    \"- Do not invent tools and do not output anything outside the JSON envelope.\"\n",
    ")"
   ]
  },
  {
   "cell_type": "code",
   "execution_count": null,
   "id": "9af342a3",
   "metadata": {},
   "outputs": [],
   "source": [
    "@guidance(stateless=True)\n",
    "def generate_decision(\n",
    "    lm: Model,\n",
    "    *,\n",
    "    name: str = \"decision_payload\",\n",
    "    schema: type[Decision] = Decision,\n",
    ") -> Model:\n",
    "    \"\"\"Capture a structured decision from the language model using the schema.\"\"\"\n",
    "    return lm + capture(gen_json(schema=schema), name=name)\n",
    "\n",
    "\n",
    "def run_tool(action: str, action_input: str) -> str:\n",
    "    \"\"\"Execute a registered tool and surface any execution errors.\"\"\"\n",
    "    func = TOOL_REGISTRY.get(action)\n",
    "    if func is None:\n",
    "        return f\"Unknown tool: {action}\"\n",
    "    try:\n",
    "        return str(func(action_input))\n",
    "    except (ValueError, RuntimeError, httpx.HTTPError, TypeError) as exc:\n",
    "        return f\"Tool error: {exc}\""
   ]
  },
  {
   "cell_type": "code",
   "execution_count": null,
   "id": "3d3a6a23",
   "metadata": {},
   "outputs": [],
   "source": [
    "def react_agent(question: str, *, max_turns: int = 5) -> str:\n",
    "    \"\"\"Run the ReAct loop with guidance using the shared JSON contract.\"\"\"\n",
    "    lm = MODEL\n",
    "    previous_actions: set[str] = set()\n",
    "    repeat_message = (\n",
    "        \"You already ran that action. Choose a different input or produce a \"\n",
    "        \"Final_Answer if you are ready.\"\n",
    "    )\n",
    "\n",
    "    with system():\n",
    "        lm += SYSTEM_PROMPT\n",
    "\n",
    "    with user():\n",
    "        today = dt.datetime.now(dt.UTC).date().isoformat()\n",
    "        lm += f\"Today is {today}. Question: {question}\"\n",
    "\n",
    "    for turn in range(max_turns):\n",
    "        decision_name = f\"decision_{turn}\"\n",
    "\n",
    "        with assistant():\n",
    "            lm += generate_decision(name=decision_name)\n",
    "\n",
    "        decision_payload = json.loads(lm[decision_name])[\"Decision\"]\n",
    "        scratchpad = decision_payload.get(\"Scratchpad\", \"\")\n",
    "\n",
    "        if \"Final_Answer\" in decision_payload:\n",
    "            final_answer = decision_payload[\"Final_Answer\"]\n",
    "            print(f\"Scratchpad: {scratchpad}\")\n",
    "            print(f\"Final Answer: {final_answer}\")\n",
    "            return final_answer\n",
    "\n",
    "        action = decision_payload[\"Action\"]\n",
    "        action_input = decision_payload[\"Action_Input\"]\n",
    "        signature = f\"{action}:{action_input}\"\n",
    "\n",
    "        print(f\"Scratchpad: {scratchpad}\")\n",
    "        print(f\" -- running {action}: {action_input}\")\n",
    "\n",
    "        if signature in previous_actions:\n",
    "            observation = repeat_message\n",
    "        else:\n",
    "            observation = run_tool(action, action_input)\n",
    "            previous_actions.add(signature)\n",
    "\n",
    "        if observation.startswith((\"Invalid\", \"Error\", \"Tool error\")):\n",
    "            observation += (\n",
    "                \" Provide a valid input or produce a Final_Answer if you no \"\n",
    "                \"longer need the tools.\"\n",
    "            )\n",
    "\n",
    "        summary_hint = (\n",
    "            \"If you have enough information to answer the question, output a \"\n",
    "            \"Final_Answer summarizing the borders of England.\"\n",
    "        )\n",
    "        with user():\n",
    "            lm += f\"Observation: {observation}\\n{summary_hint}\"\n",
    "\n",
    "        print(f\"Observation: {observation}\")\n",
    "\n",
    "    fallback_message = (\n",
    "        \"I am sorry, but I am unable to answer your question. Please provide \"\n",
    "        \"more information or a different question.\"\n",
    "    )\n",
    "    print(f\"Final Answer: {fallback_message}\")\n",
    "    return \"No answer found\""
   ]
  },
  {
   "cell_type": "code",
   "execution_count": 9,
   "id": "bc4053b2",
   "metadata": {},
   "outputs": [
    {
     "data": {
      "application/vnd.jupyter.widget-view+json": {
       "model_id": "f72ec1470f464bd18477bd512b342a56",
       "version_major": 2,
       "version_minor": 0
      },
      "text/plain": [
       "StitchWidget(initial_height='auto', initial_width='100%', srcdoc='<!doctype html>\\n<html lang=\"en\">\\n<head>\\n …"
      ]
     },
     "metadata": {},
     "output_type": "display_data"
    },
    {
     "name": "stdout",
     "output_type": "stream",
     "text": [
      "Scratchpad: I need to calculate 2 to the power of 10 to answer the question.\n",
      " -- running calculate: 2**10\n",
      "Observation: You already ran that action. TRY A DIFFERENT ACTION INPUT or produce a Final_Answer if you are ready.\n",
      "Scratchpad: I have previously calculated 2 to the power of 10, which is 1024.\n",
      " -- running calculate: 2**10\n",
      "Observation: You already ran that action. TRY A DIFFERENT ACTION INPUT or produce a Final_Answer if you are ready.\n",
      "Scratchpad: The question relates to answering 'What's 2 to the power of 10?' which equals 1024. I must now pivot to address the new request regarding the borders of England, as the previous task does not need to be repeated.\n",
      " -- running wikipedia: Borders of England\n",
      "Observation: You already ran that action. TRY A DIFFERENT ACTION INPUT or produce a Final_Answer if you are ready.\n",
      "Scratchpad: I need to summarize the borders of England, focusing on its geographical boundaries without running previous actions again.\n",
      " -- running wikipedia: England\n",
      "Observation: You already ran that action. TRY A DIFFERENT ACTION INPUT or produce a Final_Answer if you are ready.\n",
      "Scratchpad: The borders of England include Scotland to the north and Wales to the west. It is surrounded by the North Sea to the east, the English Channel to the south, and the Irish Sea to the west.\n",
      " -- running calculate: \n",
      "Observation: You already ran that action. TRY A DIFFERENT ACTION INPUT or produce a Final_Answer if you are ready.\n",
      "Final Answer: I am sorry, but I am unable to answer your question. Please provide more information or a different question.\n"
     ]
    },
    {
     "data": {
      "text/plain": [
       "'No answer found'"
      ]
     },
     "execution_count": 9,
     "metadata": {},
     "output_type": "execute_result"
    }
   ],
   "source": [
    "react_agent(\"What's 2 to the power of 10?\")"
   ]
  },
  {
   "cell_type": "code",
   "execution_count": 10,
   "id": "6491515f",
   "metadata": {},
   "outputs": [
    {
     "data": {
      "application/vnd.jupyter.widget-view+json": {
       "model_id": "26c91dfffb78467996448e1faee3e1c6",
       "version_major": 2,
       "version_minor": 0
      },
      "text/plain": [
       "StitchWidget(initial_height='auto', initial_width='100%', srcdoc='<!doctype html>\\n<html lang=\"en\">\\n<head>\\n …"
      ]
     },
     "metadata": {},
     "output_type": "display_data"
    },
    {
     "name": "stdout",
     "output_type": "stream",
     "text": [
      "Scratchpad: \n",
      " -- running wikipedia: England borders\n",
      "Observation: You already ran that action. TRY A DIFFERENT ACTION INPUT or produce a Final_Answer if you are ready.\n",
      "Scratchpad: England is part of the United Kingdom and shares its land border only with Scotland to the north and Wales to the west. It is also surrounded by water on other sides, including the North Sea, the English Channel, and the Celtic Sea.\n",
      "Final Answer: England shares its land borders with Scotland to the north and Wales to the west. It is surrounded by water on all other sides.\n"
     ]
    },
    {
     "data": {
      "text/plain": [
       "'England shares its land borders with Scotland to the north and Wales to the west. It is surrounded by water on all other sides.'"
      ]
     },
     "execution_count": 10,
     "metadata": {},
     "output_type": "execute_result"
    }
   ],
   "source": [
    "react_agent(\"What does England share borders with?\")"
   ]
  }
 ],
 "metadata": {
  "kernelspec": {
   "display_name": "redteamer-zero",
   "language": "python",
   "name": "python3"
  },
  "language_info": {
   "codemirror_mode": {
    "name": "ipython",
    "version": 3
   },
   "file_extension": ".py",
   "mimetype": "text/x-python",
   "name": "python",
   "nbconvert_exporter": "python",
   "pygments_lexer": "ipython3",
   "version": "3.11.9"
  }
 },
 "nbformat": 4,
 "nbformat_minor": 5
}
